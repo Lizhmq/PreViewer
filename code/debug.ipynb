{
 "cells": [
  {
   "cell_type": "code",
   "execution_count": 1,
   "metadata": {},
   "outputs": [],
   "source": [
    "import os\n",
    "import torch\n",
    "import logging\n",
    "import argparse\n",
    "import math\n",
    "import numpy as np\n",
    "from tqdm import tqdm\n",
    "import multiprocessing\n",
    "import time\n",
    "from utils import convert_examples_to_features, read_review_examples\n",
    "import json\n",
    "from torch.utils.data import Dataset\n",
    "from itertools import cycle\n",
    "from torch.utils.data import DataLoader, RandomSampler\n",
    "from torch.utils.data.distributed import DistributedSampler\n",
    "from transformers import AdamW, get_linear_schedule_with_warmup\n",
    "from models import build_or_load_gen_model\n",
    "from configs import add_args, set_seed, set_dist\n",
    "from torch.nn.parallel import DistributedDataParallel as DDP\n",
    "import torch.distributed as dist\n",
    "import os\n",
    "from transformers import T5Tokenizer, T5Model\n",
    "from utils import read_review_examples, convert_examples_to_features, TextDataset\n",
    "from models import build_or_load_gen_model\n",
    "from run_pre_training import get_loaders\n",
    "import multiprocessing\n",
    "import torch.distributed as dist"
   ]
  },
  {
   "cell_type": "code",
   "execution_count": 2,
   "metadata": {},
   "outputs": [
    {
     "name": "stderr",
     "output_type": "stream",
     "text": [
      "12/24/2021 13:44:03 - INFO - models -   Finish loading model [223M] from t5-base\n"
     ]
    }
   ],
   "source": [
    "class FakeArgs(object):\n",
    "    def __init__(self):\n",
    "        self.max_source_length = 512\n",
    "        self.max_target_length = 256\n",
    "        self.model_type = \"t5\"\n",
    "        self.config_name = \"t5-base\"\n",
    "        self.add_lang_ids = True\n",
    "        self.tokenizer_path = \"Salesforce/codet5-base\"\n",
    "        self.model_name_or_path = \"t5-base\"\n",
    "        self.load_model_path = None\n",
    "        self.train_path = \"../../../lzzz/processed\"\n",
    "        self.train_batch_size = 1\n",
    "        self.langs = [\"ruby\"]\n",
    "        self.cpu_count = 3\n",
    "        self.num_train_epochs = 2\n",
    "        self.gradient_accumulation_steps = 1\n",
    "        self.mask_rate = 0.15\n",
    "        self.from_scratch = True\n",
    "\n",
    "args = FakeArgs()\n",
    "config, model, tokenizer = build_or_load_gen_model(args)\n",
    "pool = multiprocessing.Pool(args.cpu_count)\n",
    "datafiles = [\"../../../lzzz/processed/ruby_gen.jsonl\"]\n",
    "packs = get_loaders(datafiles, args, tokenizer, pool)\n",
    "for pack in packs:\n",
    "    dataset, _, loader = pack\n",
    "    data = next(loader)\n",
    "    break"
   ]
  },
  {
   "cell_type": "code",
   "execution_count": 3,
   "metadata": {},
   "outputs": [],
   "source": [
    "examples = data\n",
    "source_ids = torch.tensor(\n",
    "    [ex.source_ids for ex in examples], dtype=torch.long\n",
    ")\n",
    "source_labels = torch.tensor(\n",
    "    [ex.source_labels for ex in examples], dtype=torch.long\n",
    ")\n",
    "target_ids = torch.tensor(\n",
    "    [ex.target_ids for ex in examples], dtype=torch.long\n",
    ")\n",
    "source_mask = source_ids.ne(tokenizer.pad_id)\n",
    "target_mask = target_ids.ne(tokenizer.pad_id)\n"
   ]
  },
  {
   "cell_type": "code",
   "execution_count": 4,
   "metadata": {},
   "outputs": [
    {
     "data": {
      "text/plain": [
       "tensor(7.0721, grad_fn=<AddBackward0>)"
      ]
     },
     "execution_count": 4,
     "metadata": {},
     "output_type": "execute_result"
    }
   ],
   "source": [
    "model(\n",
    "    input_ids=source_ids,\n",
    "    input_labels=source_labels,\n",
    "    decoder_input_ids=target_ids,\n",
    "    attention_mask=source_mask,\n",
    "    decoder_attention_mask=target_mask,\n",
    ")"
   ]
  },
  {
   "cell_type": "code",
   "execution_count": null,
   "metadata": {},
   "outputs": [],
   "source": [
    "ids = tokenizer.encode(\"testo\")\n",
    "tokenizer.convert_ids_to_tokens(ids)"
   ]
  },
  {
   "cell_type": "code",
   "execution_count": null,
   "metadata": {},
   "outputs": [],
   "source": [
    "inputs = data[0].source_ids\n",
    "labels = data[0].source_labels\n",
    "targets = data[0].target_ids\n",
    "# print(\"\".join())"
   ]
  },
  {
   "cell_type": "code",
   "execution_count": null,
   "metadata": {},
   "outputs": [],
   "source": [
    "def prettyprint(inputs):\n",
    "    for i, tok in enumerate(inputs):\n",
    "        if i > 0 and str(tok).startswith(\"<e\"):\n",
    "            print(\"\")\n",
    "        print(str(tok) + \" \", end=\"\")\n",
    "toks = tokenizer.convert_ids_to_tokens(inputs)\n",
    "labs = labels\n",
    "tgts = tokenizer.convert_ids_to_tokens(targets)\n",
    "# print(toks)\n",
    "prettyprint(toks)\n",
    "print(\"\\n\\n\\n\\n\\n\")\n",
    "prettyprint(labs)\n",
    "print(\"\\n\\n\\n\\n\\n\")\n",
    "prettyprint(tgts)\n",
    "print(\"\\n\\n\\n\\n\\n\")\n"
   ]
  },
  {
   "cell_type": "code",
   "execution_count": null,
   "metadata": {},
   "outputs": [],
   "source": [
    "print(\"\\n\".join(dataset.examples[0].prevlines))\n",
    "print(\"\\n\\n\\n\\n\\n\")\n",
    "print(\"\\n\".join(dataset.examples[0].lines))\n",
    "print(\"\\n\\n\\n\\n\\n\")\n",
    "print(\"\\n\".join(dataset.examples[0].afterlines))\n",
    "print(\"\\n\\n\\n\\n\\n\")\n",
    "print(dataset.examples[0].msg)"
   ]
  },
  {
   "cell_type": "code",
   "execution_count": null,
   "metadata": {},
   "outputs": [],
   "source": [
    "import json\n",
    "data = []\n",
    "idx = 0\n",
    "with open(\"../../../lzzz/processed/ruby_cls.jsonl\", \"r\") as f:\n",
    "    for line in f:\n",
    "        js = json.loads(line)\n",
    "        data.append(js)\n",
    "        # print(js[\"patch\"])\n",
    "        idx += 1\n",
    "        if idx == 100:\n",
    "            break"
   ]
  },
  {
   "cell_type": "code",
   "execution_count": null,
   "metadata": {},
   "outputs": [],
   "source": []
  },
  {
   "cell_type": "code",
   "execution_count": null,
   "metadata": {},
   "outputs": [],
   "source": []
  },
  {
   "cell_type": "code",
   "execution_count": null,
   "metadata": {},
   "outputs": [],
   "source": []
  }
 ],
 "metadata": {
  "interpreter": {
   "hash": "9284e13026beb4ed65c9bcdab837c39250db4314eb9c8e651b6ffb0b51a50d53"
  },
  "kernelspec": {
   "display_name": "Python 3.7.11 64-bit ('py37': conda)",
   "language": "python",
   "name": "python3"
  },
  "language_info": {
   "codemirror_mode": {
    "name": "ipython",
    "version": 3
   },
   "file_extension": ".py",
   "mimetype": "text/x-python",
   "name": "python",
   "nbconvert_exporter": "python",
   "pygments_lexer": "ipython3",
   "version": "3.7.12"
  },
  "orig_nbformat": 4
 },
 "nbformat": 4,
 "nbformat_minor": 2
}
