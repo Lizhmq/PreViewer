{
 "cells": [
  {
   "cell_type": "code",
   "execution_count": null,
   "metadata": {},
   "outputs": [],
   "source": [
    "import os\n",
    "import torch\n",
    "import logging\n",
    "import argparse\n",
    "import math\n",
    "import numpy as np\n",
    "from tqdm import tqdm\n",
    "import multiprocessing\n",
    "import time\n",
    "from utils import convert_examples_to_features, read_review_examples\n",
    "import json\n",
    "from torch.utils.data import Dataset\n",
    "from itertools import cycle\n",
    "from torch.utils.data import DataLoader, RandomSampler\n",
    "from torch.utils.data.distributed import DistributedSampler\n",
    "from transformers import AdamW, get_linear_schedule_with_warmup\n",
    "from models import build_or_load_gen_model\n",
    "from configs import add_args, set_seed, set_dist\n",
    "from torch.nn.parallel import DistributedDataParallel as DDP\n",
    "import torch.distributed as dist\n",
    "import os\n",
    "from transformers import T5Tokenizer, T5Model\n",
    "from utils import read_review_examples, convert_examples_to_features, TextDataset\n",
    "from models import build_or_load_gen_model\n",
    "from run_pre_training import get_loaders\n",
    "import multiprocessing\n",
    "import torch.distributed as dist"
   ]
  },
  {
   "cell_type": "code",
   "execution_count": null,
   "metadata": {},
   "outputs": [],
   "source": [
    "class FakeArgs(object):\n",
    "    def __init__(self):\n",
    "        self.max_source_length = 512\n",
    "        self.max_target_length = 256\n",
    "        self.model_type = \"t5\"\n",
    "        self.config_name = \"t5-base\"\n",
    "        self.add_lang_ids = True\n",
    "        self.tokenizer_path = \"t5-base\"\n",
    "        self.model_name_or_path = \"t5-base\"\n",
    "        self.load_model_path = None\n",
    "        self.train_path = \"../../../lzzz/processed\"\n",
    "        self.train_batch_size = 1\n",
    "        self.langs = [\"ruby\"]\n",
    "        self.cpu_count = 3\n",
    "        self.num_train_epochs = 2\n",
    "        self.gradient_accumulation_steps = 1\n",
    "        self.mask_rate = 0.15\n",
    "        self.from_scratch = True\n",
    "\n",
    "args = FakeArgs()\n",
    "config, model, tokenizer = build_or_load_gen_model(args)\n",
    "pool = multiprocessing.Pool(args.cpu_count)\n",
    "packs, steps = get_loaders(args, tokenizer, pool)\n",
    "dataset, _, loader = packs[0]\n",
    "data = next(loader)"
   ]
  },
  {
   "cell_type": "code",
   "execution_count": null,
   "metadata": {},
   "outputs": [],
   "source": [
    "model.config"
   ]
  },
  {
   "cell_type": "code",
   "execution_count": null,
   "metadata": {},
   "outputs": [],
   "source": [
    "ids = tokenizer.encode(\"testo\")\n",
    "tokenizer.convert_ids_to_tokens(ids)"
   ]
  },
  {
   "cell_type": "code",
   "execution_count": null,
   "metadata": {},
   "outputs": [],
   "source": [
    "inputs = data[0].source_ids\n",
    "labels = data[0].source_labels\n",
    "targets = data[0].target_ids\n",
    "# print(\"\".join())"
   ]
  },
  {
   "cell_type": "code",
   "execution_count": null,
   "metadata": {},
   "outputs": [],
   "source": [
    "def prettyprint(inputs):\n",
    "    for i, tok in enumerate(inputs):\n",
    "        if i > 0 and str(tok).startswith(\"<e\"):\n",
    "            print(\"\")\n",
    "        print(str(tok) + \" \", end=\"\")\n",
    "toks = tokenizer.convert_ids_to_tokens(inputs)\n",
    "labs = labels\n",
    "tgts = tokenizer.convert_ids_to_tokens(targets)\n",
    "# print(toks)\n",
    "prettyprint(toks)\n",
    "print(\"\\n\\n\\n\\n\\n\")\n",
    "prettyprint(labs)\n",
    "print(\"\\n\\n\\n\\n\\n\")\n",
    "prettyprint(tgts)\n",
    "print(\"\\n\\n\\n\\n\\n\")\n"
   ]
  },
  {
   "cell_type": "code",
   "execution_count": null,
   "metadata": {},
   "outputs": [],
   "source": [
    "print(\"\\n\".join(dataset.examples[0].prevlines))\n",
    "print(\"\\n\\n\\n\\n\\n\")\n",
    "print(\"\\n\".join(dataset.examples[0].lines))\n",
    "print(\"\\n\\n\\n\\n\\n\")\n",
    "print(\"\\n\".join(dataset.examples[0].afterlines))\n",
    "print(\"\\n\\n\\n\\n\\n\")\n",
    "print(dataset.examples[0].msg)"
   ]
  },
  {
   "cell_type": "code",
   "execution_count": 33,
   "metadata": {},
   "outputs": [],
   "source": [
    "import json\n",
    "data = []\n",
    "idx = 0\n",
    "with open(\"../../../lzzz/processed/ruby_cls.jsonl\", \"r\") as f:\n",
    "    for line in f:\n",
    "        js = json.loads(line)\n",
    "        data.append(js)\n",
    "        # print(js[\"patch\"])\n",
    "        idx += 1\n",
    "        if idx == 100:\n",
    "            break"
   ]
  },
  {
   "cell_type": "code",
   "execution_count": null,
   "metadata": {},
   "outputs": [],
   "source": []
  },
  {
   "cell_type": "code",
   "execution_count": 43,
   "metadata": {},
   "outputs": [
    {
     "name": "stdout",
     "output_type": "stream",
     "text": [
      "@@ -47,28 +47,28 @@\n",
      " \t\t\tend\n",
      " \n",
      " \t\t\tdef create\n",
      "-\t\t\t\tinstance_variable_set(\"@#{resource_model_name}\", resource_model.new(params[resource_model_name.to_sym]))\n",
      "+\t\t\t\tinstance_variable_set(\"@#{resource_handler.model_name}\", resource_handler.model.new(params[resource_handler.namespaced_model_name.to_sym]))\n",
      " \t\t\t\tresource_instance_variable.save\n",
      " \t\t\t\trender_errors_or_redirect(\n",
      "-\t\t\t\t\tresource_instance_variable,\n",
      "-\t\t\t\t\tresource_url_scope.url_for({:action => :index}),\n",
      "-\t\t\t\t\tflash_notice_for_resource_action\n",
      "+\t\t\t\t\t\tresource_instance_variable,\n",
      "+\t\t\t\t\t\tresources_path,\n",
      "+\t\t\t\t\t\tflash_notice_for_resource_action\n",
      " \t\t\t\t)\n",
      " \t\t\tend\n",
      " \n",
      " \t\t\tdef update\n",
      "-\t\t\t\tresource_instance_variable.update_attributes(params[resource_model_name.to_sym])\n",
      "+\t\t\t\tresource_instance_variable.update_attributes(params[resource_handler.namespaced_model_name.to_sym])\n",
      " \t\t\t\trender_errors_or_redirect(\n",
      "-\t\t\t\t\tresource_instance_variable,\n",
      "-\t\t\t\t\tresource_url_scope.url_for({:action => :index}),\n",
      "-\t\t\t\t\tflash_notice_for_resource_action\n",
      "+\t\t\t\t\t\tresource_instance_variable,\n",
      "+\t\t\t\t\t\tresources_path,\n",
      "+\t\t\t\t\t\tflash_notice_for_resource_action\n",
      " \t\t\t\t)\n",
      " \t\t\tend\n",
      " \n",
      "\n"
     ]
    }
   ],
   "source": []
  },
  {
   "cell_type": "code",
   "execution_count": null,
   "metadata": {},
   "outputs": [],
   "source": []
  }
 ],
 "metadata": {
  "interpreter": {
   "hash": "9284e13026beb4ed65c9bcdab837c39250db4314eb9c8e651b6ffb0b51a50d53"
  },
  "kernelspec": {
   "display_name": "Python 3.7.11 64-bit ('py37': conda)",
   "language": "python",
   "name": "python3"
  },
  "language_info": {
   "codemirror_mode": {
    "name": "ipython",
    "version": 3
   },
   "file_extension": ".py",
   "mimetype": "text/x-python",
   "name": "python",
   "nbconvert_exporter": "python",
   "pygments_lexer": "ipython3",
   "version": "3.7.12"
  },
  "orig_nbformat": 4
 },
 "nbformat": 4,
 "nbformat_minor": 2
}
